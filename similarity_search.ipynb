{
  "nbformat": 4,
  "nbformat_minor": 0,
  "metadata": {
    "colab": {
      "provenance": []
    },
    "kernelspec": {
      "name": "python3",
      "display_name": "Python 3"
    },
    "language_info": {
      "name": "python"
    }
  },
  "cells": [
    {
      "cell_type": "markdown",
      "source": [
        "##**Install Required Libraries**"
      ],
      "metadata": {
        "id": "8fmdqATrjXYG"
      }
    },
    {
      "cell_type": "code",
      "source": [
        "!pip install sentence-transformers\n",
        "!pip install faiss-cpu"
      ],
      "metadata": {
        "colab": {
          "base_uri": "https://localhost:8080/"
        },
        "id": "EQ1I3855iNqe",
        "outputId": "8dc7c9c3-2c41-4dc3-f1db-53b85412fb10"
      },
      "execution_count": null,
      "outputs": [
        {
          "output_type": "stream",
          "name": "stdout",
          "text": [
            "Requirement already satisfied: sentence-transformers in /usr/local/lib/python3.11/dist-packages (3.4.1)\n",
            "Requirement already satisfied: transformers<5.0.0,>=4.41.0 in /usr/local/lib/python3.11/dist-packages (from sentence-transformers) (4.48.3)\n",
            "Requirement already satisfied: tqdm in /usr/local/lib/python3.11/dist-packages (from sentence-transformers) (4.67.1)\n",
            "Requirement already satisfied: torch>=1.11.0 in /usr/local/lib/python3.11/dist-packages (from sentence-transformers) (2.5.1+cu124)\n",
            "Requirement already satisfied: scikit-learn in /usr/local/lib/python3.11/dist-packages (from sentence-transformers) (1.6.1)\n",
            "Requirement already satisfied: scipy in /usr/local/lib/python3.11/dist-packages (from sentence-transformers) (1.13.1)\n",
            "Requirement already satisfied: huggingface-hub>=0.20.0 in /usr/local/lib/python3.11/dist-packages (from sentence-transformers) (0.28.1)\n",
            "Requirement already satisfied: Pillow in /usr/local/lib/python3.11/dist-packages (from sentence-transformers) (11.1.0)\n",
            "Requirement already satisfied: filelock in /usr/local/lib/python3.11/dist-packages (from huggingface-hub>=0.20.0->sentence-transformers) (3.17.0)\n",
            "Requirement already satisfied: fsspec>=2023.5.0 in /usr/local/lib/python3.11/dist-packages (from huggingface-hub>=0.20.0->sentence-transformers) (2024.10.0)\n",
            "Requirement already satisfied: packaging>=20.9 in /usr/local/lib/python3.11/dist-packages (from huggingface-hub>=0.20.0->sentence-transformers) (24.2)\n",
            "Requirement already satisfied: pyyaml>=5.1 in /usr/local/lib/python3.11/dist-packages (from huggingface-hub>=0.20.0->sentence-transformers) (6.0.2)\n",
            "Requirement already satisfied: requests in /usr/local/lib/python3.11/dist-packages (from huggingface-hub>=0.20.0->sentence-transformers) (2.32.3)\n",
            "Requirement already satisfied: typing-extensions>=3.7.4.3 in /usr/local/lib/python3.11/dist-packages (from huggingface-hub>=0.20.0->sentence-transformers) (4.12.2)\n",
            "Requirement already satisfied: networkx in /usr/local/lib/python3.11/dist-packages (from torch>=1.11.0->sentence-transformers) (3.4.2)\n",
            "Requirement already satisfied: jinja2 in /usr/local/lib/python3.11/dist-packages (from torch>=1.11.0->sentence-transformers) (3.1.5)\n",
            "Requirement already satisfied: nvidia-cuda-nvrtc-cu12==12.4.127 in /usr/local/lib/python3.11/dist-packages (from torch>=1.11.0->sentence-transformers) (12.4.127)\n",
            "Requirement already satisfied: nvidia-cuda-runtime-cu12==12.4.127 in /usr/local/lib/python3.11/dist-packages (from torch>=1.11.0->sentence-transformers) (12.4.127)\n",
            "Requirement already satisfied: nvidia-cuda-cupti-cu12==12.4.127 in /usr/local/lib/python3.11/dist-packages (from torch>=1.11.0->sentence-transformers) (12.4.127)\n",
            "Requirement already satisfied: nvidia-cudnn-cu12==9.1.0.70 in /usr/local/lib/python3.11/dist-packages (from torch>=1.11.0->sentence-transformers) (9.1.0.70)\n",
            "Requirement already satisfied: nvidia-cublas-cu12==12.4.5.8 in /usr/local/lib/python3.11/dist-packages (from torch>=1.11.0->sentence-transformers) (12.4.5.8)\n",
            "Requirement already satisfied: nvidia-cufft-cu12==11.2.1.3 in /usr/local/lib/python3.11/dist-packages (from torch>=1.11.0->sentence-transformers) (11.2.1.3)\n",
            "Requirement already satisfied: nvidia-curand-cu12==10.3.5.147 in /usr/local/lib/python3.11/dist-packages (from torch>=1.11.0->sentence-transformers) (10.3.5.147)\n",
            "Requirement already satisfied: nvidia-cusolver-cu12==11.6.1.9 in /usr/local/lib/python3.11/dist-packages (from torch>=1.11.0->sentence-transformers) (11.6.1.9)\n",
            "Requirement already satisfied: nvidia-cusparse-cu12==12.3.1.170 in /usr/local/lib/python3.11/dist-packages (from torch>=1.11.0->sentence-transformers) (12.3.1.170)\n",
            "Requirement already satisfied: nvidia-nccl-cu12==2.21.5 in /usr/local/lib/python3.11/dist-packages (from torch>=1.11.0->sentence-transformers) (2.21.5)\n",
            "Requirement already satisfied: nvidia-nvtx-cu12==12.4.127 in /usr/local/lib/python3.11/dist-packages (from torch>=1.11.0->sentence-transformers) (12.4.127)\n",
            "Requirement already satisfied: nvidia-nvjitlink-cu12==12.4.127 in /usr/local/lib/python3.11/dist-packages (from torch>=1.11.0->sentence-transformers) (12.4.127)\n",
            "Requirement already satisfied: triton==3.1.0 in /usr/local/lib/python3.11/dist-packages (from torch>=1.11.0->sentence-transformers) (3.1.0)\n",
            "Requirement already satisfied: sympy==1.13.1 in /usr/local/lib/python3.11/dist-packages (from torch>=1.11.0->sentence-transformers) (1.13.1)\n",
            "Requirement already satisfied: mpmath<1.4,>=1.1.0 in /usr/local/lib/python3.11/dist-packages (from sympy==1.13.1->torch>=1.11.0->sentence-transformers) (1.3.0)\n",
            "Requirement already satisfied: numpy>=1.17 in /usr/local/lib/python3.11/dist-packages (from transformers<5.0.0,>=4.41.0->sentence-transformers) (1.26.4)\n",
            "Requirement already satisfied: regex!=2019.12.17 in /usr/local/lib/python3.11/dist-packages (from transformers<5.0.0,>=4.41.0->sentence-transformers) (2024.11.6)\n",
            "Requirement already satisfied: tokenizers<0.22,>=0.21 in /usr/local/lib/python3.11/dist-packages (from transformers<5.0.0,>=4.41.0->sentence-transformers) (0.21.0)\n",
            "Requirement already satisfied: safetensors>=0.4.1 in /usr/local/lib/python3.11/dist-packages (from transformers<5.0.0,>=4.41.0->sentence-transformers) (0.5.2)\n",
            "Requirement already satisfied: joblib>=1.2.0 in /usr/local/lib/python3.11/dist-packages (from scikit-learn->sentence-transformers) (1.4.2)\n",
            "Requirement already satisfied: threadpoolctl>=3.1.0 in /usr/local/lib/python3.11/dist-packages (from scikit-learn->sentence-transformers) (3.5.0)\n",
            "Requirement already satisfied: MarkupSafe>=2.0 in /usr/local/lib/python3.11/dist-packages (from jinja2->torch>=1.11.0->sentence-transformers) (3.0.2)\n",
            "Requirement already satisfied: charset-normalizer<4,>=2 in /usr/local/lib/python3.11/dist-packages (from requests->huggingface-hub>=0.20.0->sentence-transformers) (3.4.1)\n",
            "Requirement already satisfied: idna<4,>=2.5 in /usr/local/lib/python3.11/dist-packages (from requests->huggingface-hub>=0.20.0->sentence-transformers) (3.10)\n",
            "Requirement already satisfied: urllib3<3,>=1.21.1 in /usr/local/lib/python3.11/dist-packages (from requests->huggingface-hub>=0.20.0->sentence-transformers) (2.3.0)\n",
            "Requirement already satisfied: certifi>=2017.4.17 in /usr/local/lib/python3.11/dist-packages (from requests->huggingface-hub>=0.20.0->sentence-transformers) (2025.1.31)\n",
            "Requirement already satisfied: faiss-cpu in /usr/local/lib/python3.11/dist-packages (1.10.0)\n",
            "Requirement already satisfied: numpy<3.0,>=1.25.0 in /usr/local/lib/python3.11/dist-packages (from faiss-cpu) (1.26.4)\n",
            "Requirement already satisfied: packaging in /usr/local/lib/python3.11/dist-packages (from faiss-cpu) (24.2)\n"
          ]
        }
      ]
    },
    {
      "cell_type": "markdown",
      "source": [
        "##**Convert the Paragraph into Sentences**"
      ],
      "metadata": {
        "id": "PCzqJNouk_qs"
      }
    },
    {
      "cell_type": "code",
      "source": [
        "import re\n",
        "\n",
        "paragraph = \"\"\"The environment is the foundation of life on Earth, encompassing all living and non-living things that interact to sustain ecosystems. It includes air, water, land, flora, fauna, and natural resources that support biodiversity and maintain ecological balance. However, human activities such as deforestation, pollution, industrialization, and excessive resource consumption have led to environmental degradation, threatening the planet’s health. Climate change, caused primarily by greenhouse gas emissions, has resulted in rising global temperatures, melting ice caps, erratic weather patterns, and rising sea levels, putting countless species at risk of extinction. Air pollution, caused by vehicle emissions and industrial waste, contributes to respiratory diseases and deteriorates air quality, while water pollution from plastic waste, oil spills, and chemical discharge disrupts marine ecosystems. Additionally, soil degradation due to deforestation and excessive farming reduces agricultural productivity, impacting food security. The destruction of forests not only leads to habitat loss for countless species but also reduces the planet’s ability to absorb carbon dioxide, further accelerating global warming. Conservation efforts, including afforestation, sustainable farming, waste management, and the use of renewable energy sources such as solar, wind, and hydropower, play a crucial role in mitigating environmental damage. Governments, organizations, and individuals must collaborate to implement policies that promote sustainability, reduce carbon footprints, and encourage eco-friendly alternatives such as electric vehicles, biodegradable products, and energy-efficient practices. The importance of education and awareness cannot be overlooked, as informed communities are more likely to adopt sustainable habits and push for necessary reforms. Additionally, technological advancements, such as carbon capture, AI-driven environmental monitoring, and innovative recycling techniques, can contribute significantly to environmental conservation. Preserving biodiversity is equally critical, as every species plays a role in maintaining the natural balance of ecosystems. When one species declines or disappears, it can trigger a ripple effect, disrupting the entire food chain. National parks, wildlife sanctuaries, and marine conservation areas help protect endangered species and their habitats, ensuring their survival for future generations. Water conservation is another essential aspect of environmental protection, as freshwater resources are depleting at an alarming rate. Rainwater harvesting, wastewater treatment, and efficient irrigation methods can help preserve water for future needs. Urbanization, while necessary for economic development, must be planned with sustainability in mind, incorporating green spaces, efficient public transportation, and waste recycling programs to reduce environmental impact. The adoption of a circular economy, where products are designed for reuse, repair, and recycling rather than disposal, can significantly minimize waste generation and reduce dependency on raw materials. As global citizens, it is our responsibility to adopt eco-conscious lifestyles by reducing plastic usage, conserving energy, minimizing waste, and supporting policies that prioritize environmental well-being. While the challenges posed by environmental degradation are immense, collective efforts and innovative solutions can lead to a more sustainable and resilient planet. By fostering a culture of responsibility and environmental stewardship, we can ensure that future generations inherit a world that is rich in natural resources, biodiversity, and a stable climate, allowing life to thrive in harmony with nature.\"\"\"\n",
        "\n",
        "sentences = re.split(r'(?<=[.!?]) +', paragraph)\n",
        "print(f\"Total sentences: {len(sentences)}\")"
      ],
      "metadata": {
        "colab": {
          "base_uri": "https://localhost:8080/"
        },
        "id": "OcukduJCk9_K",
        "outputId": "8f6b1ff1-80d4-478e-8544-3494afd59250"
      },
      "execution_count": null,
      "outputs": [
        {
          "output_type": "stream",
          "name": "stdout",
          "text": [
            "Total sentences: 21\n"
          ]
        }
      ]
    },
    {
      "cell_type": "markdown",
      "source": [
        "##**Convert Sentences into Vectors**"
      ],
      "metadata": {
        "id": "Y-8LECQ3mYWJ"
      }
    },
    {
      "cell_type": "markdown",
      "source": [
        "**Embeddings**\n",
        "\n",
        "---\n",
        "\n",
        "\n",
        "Embeddings are numerical representations of data (like text, images, or audio) in a high-dimensional space, making it easier for machines to understand and compare similarities."
      ],
      "metadata": {
        "id": "D7dg4Yo5nzIM"
      }
    },
    {
      "cell_type": "code",
      "source": [
        "from sentence_transformers import SentenceTransformer\n",
        "\n",
        "# Load pre-trained model\n",
        "model = SentenceTransformer('all-MiniLM-L6-v2')\n",
        "\n",
        "# Convert sentences into embeddings\n",
        "sentence_embeddings = model.encode(sentences, convert_to_numpy=True)\n",
        "\n",
        "print(f\"Generated {len(sentence_embeddings)} vectors of size {sentence_embeddings.shape[1]}\")\n",
        "print(sentence_embeddings)"
      ],
      "metadata": {
        "colab": {
          "base_uri": "https://localhost:8080/"
        },
        "id": "zmw0EqKTmSDJ",
        "outputId": "e447f999-9c13-4664-8a84-0702ff40b9fd"
      },
      "execution_count": null,
      "outputs": [
        {
          "output_type": "stream",
          "name": "stdout",
          "text": [
            "Generated 21 vectors of size 384\n",
            "[[ 4.9925365e-02  1.3062750e-02 -7.4197790e-03 ...  2.1249909e-02\n",
            "   8.7844811e-02  6.0712100e-05]\n",
            " [ 1.1474849e-02  7.2927743e-02  8.1670113e-02 ... -3.8943540e-02\n",
            "   3.6529587e-03 -2.2480171e-03]\n",
            " [ 7.0569187e-02  6.0116626e-02  8.9587055e-02 ... -8.7965034e-02\n",
            "  -3.4672760e-03  4.8690293e-02]\n",
            " ...\n",
            " [-4.5862240e-03  1.0334941e-01  7.1059577e-02 ... -1.8225428e-02\n",
            "   2.4778116e-02 -8.3133075e-03]\n",
            " [ 3.6258593e-02  5.3897951e-02  7.4638873e-02 ... -3.9567750e-02\n",
            "   5.1238533e-02 -2.5311846e-02]\n",
            " [-3.2252919e-02  9.6897267e-02  5.3057723e-02 ...  4.5512311e-02\n",
            "   1.2521861e-02 -6.4646639e-02]]\n"
          ]
        }
      ]
    },
    {
      "cell_type": "markdown",
      "source": [
        "##**Store Vectors in FAISS(Vdb)**\n",
        "###**FAISS (Facebook AI Similarity Search)**\n",
        "\n",
        "FAISS (Facebook AI Similarity Search) is an open-source library developed by Meta (Facebook) for fast, efficient similarity search and clustering of dense\n",
        "vectors. It is widely used for large-scale nearest neighbor search, particularly in machine learning, NLP, and recommendation systems.\n",
        "\n",
        "**How FAISS Works**\n",
        "  * FAISS stores vector embeddings in an index and allows you to perform similarity search efficiently.\n",
        "  - It supports:\n",
        "\n",
        "  Exact Search (Slow but 100% accurate)\n",
        "\n",
        "  IndexFlatL2: Brute-force search using L2 (Euclidean) distance"
      ],
      "metadata": {
        "id": "pEYatUvLoTFt"
      }
    },
    {
      "cell_type": "code",
      "source": [
        "import faiss\n",
        "import numpy as np\n",
        "\n",
        "# Define index (L2 or cosine similarity)\n",
        "index = faiss.IndexFlatL2(sentence_embeddings.shape[1])\n",
        "\n",
        "# Add vectors to FAISS index\n",
        "index.add(np.array(sentence_embeddings))\n",
        "\n",
        "print(f\"Added {index.ntotal} vectors to the FAISS index.\")"
      ],
      "metadata": {
        "colab": {
          "base_uri": "https://localhost:8080/"
        },
        "id": "4PYaxGuSnpvC",
        "outputId": "a0d87194-3549-489c-a5e4-52902da716de"
      },
      "execution_count": null,
      "outputs": [
        {
          "output_type": "stream",
          "name": "stdout",
          "text": [
            "Added 21 vectors to the FAISS index.\n"
          ]
        }
      ]
    },
    {
      "cell_type": "markdown",
      "source": [
        "##**Similarity Searching**"
      ],
      "metadata": {
        "id": "F4_u92cwonc3"
      }
    },
    {
      "cell_type": "code",
      "source": [
        "query = input(\"Enter Your search query here: \")\n",
        "query_embedding = model.encode([query])\n",
        "\n",
        "D, I = index.search(query_embedding, 3)\n",
        "\n",
        "print(\"Top 3 similar sentences:\")\n",
        "for idx in I[0]:\n",
        "    print(sentences[idx],\"\\n\")"
      ],
      "metadata": {
        "colab": {
          "base_uri": "https://localhost:8080/"
        },
        "id": "zhExFPQcob8m",
        "outputId": "7d29a564-181d-4510-975c-558ba360cb66"
      },
      "execution_count": null,
      "outputs": [
        {
          "output_type": "stream",
          "name": "stdout",
          "text": [
            "Enter Your search query here: water\n",
            "Top 3 similar sentences:\n",
            "Rainwater harvesting, wastewater treatment, and efficient irrigation methods can help preserve water for future needs. \n",
            "\n",
            "Water conservation is another essential aspect of environmental protection, as freshwater resources are depleting at an alarming rate. \n",
            "\n",
            "Air pollution, caused by vehicle emissions and industrial waste, contributes to respiratory diseases and deteriorates air quality, while water pollution from plastic waste, oil spills, and chemical discharge disrupts marine ecosystems. \n",
            "\n"
          ]
        }
      ]
    }
  ]
}